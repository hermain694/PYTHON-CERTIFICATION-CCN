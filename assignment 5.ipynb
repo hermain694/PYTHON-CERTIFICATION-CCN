{
 "cells": [
  {
   "cell_type": "markdown",
   "metadata": {},
   "source": [
    "Question:1\n",
    "Write a Python function to calculate the factorial of a number (a non-negative\n",
    "integer). The function accepts the number as an argument."
   ]
  },
  {
   "cell_type": "code",
   "execution_count": 16,
   "metadata": {},
   "outputs": [
    {
     "name": "stdout",
     "output_type": "stream",
     "text": [
      "enter a number:4\n",
      "the factorial of 4 is 24\n"
     ]
    }
   ],
   "source": [
    "num=int(input(\"enter a number:\"))\n",
    "factorial(num)\n",
    "def factorial(num):\n",
    "    result=1\n",
    "    for i in range(num,0,-1):\n",
    "        result=result*i\n",
    "    print(\"the factorial of \"+str(num)+\" is \"+str(result))\n",
    "\n"
   ]
  },
  {
   "cell_type": "markdown",
   "metadata": {},
   "source": [
    "Question:2\n",
    "Write a Python function that accepts a string and calculate the number of upper\n",
    "case letters and lower case letters."
   ]
  },
  {
   "cell_type": "code",
   "execution_count": 1,
   "metadata": {},
   "outputs": [
    {
     "name": "stdout",
     "output_type": "stream",
     "text": [
      "enter a string:This Is Hermain\n",
      "3\n"
     ]
    }
   ],
   "source": [
    "upper_letter=input(\"enter a string:\")\n",
    "def upper_str(upper_letter):\n",
    "    count=0\n",
    "    for i in upper_letter:\n",
    "        if(i.isupper()):\n",
    "            count=count+1\n",
    "    print(count) \n",
    "upper_str(upper_letter)"
   ]
  },
  {
   "cell_type": "markdown",
   "metadata": {},
   "source": [
    "Question:3\n",
    "Write a Python function to print the even numbers from a given"
   ]
  },
  {
   "cell_type": "code",
   "execution_count": 3,
   "metadata": {},
   "outputs": [
    {
     "name": "stdout",
     "output_type": "stream",
     "text": [
      "2\n",
      "4\n",
      "6\n",
      "8\n",
      "10\n"
     ]
    }
   ],
   "source": [
    "def even_num(even):\n",
    "    for i in even:\n",
    "        if(i%2 ==0):\n",
    "            print(i)\n",
    "even_num(even=[1,2,3,4,5,6,7,8,9,10])"
   ]
  },
  {
   "cell_type": "markdown",
   "metadata": {},
   "source": [
    "Question:4\n",
    "Write a Python function that checks whether a passed string is palindrome or not.\n",
    "Note: A palindrome is a word, phrase, or sequence that reads the same\n",
    "backward as forward, e.g., madam"
   ]
  },
  {
   "cell_type": "code",
   "execution_count": 16,
   "metadata": {},
   "outputs": [
    {
     "name": "stdout",
     "output_type": "stream",
     "text": [
      "enter a string:madam\n",
      "yes it is palindrome\n"
     ]
    }
   ],
   "source": [
    "palin_str=input(\"enter a string:\")\n",
    "def palindrome(palin_str):\n",
    "    rev=palin_str[::-1]\n",
    "    if(palin_str == rev):\n",
    "        print(\"yes it is palindrome\")\n",
    "    else:\n",
    "        print(\"no it is not a palindrome\")\n",
    "palindrome(palin_str)"
   ]
  },
  {
   "cell_type": "markdown",
   "metadata": {},
   "source": [
    "Question:5\n",
    "Write a Python function that takes a number as a parameter and check the\n",
    "number is prime or not."
   ]
  },
  {
   "cell_type": "code",
   "execution_count": 25,
   "metadata": {},
   "outputs": [
    {
     "name": "stdout",
     "output_type": "stream",
     "text": [
      "enter a number to check it is prime or not:11\n",
      "prime number\n"
     ]
    }
   ],
   "source": [
    "num=int(input(\"enter a number to check it is prime or not:\"))\n",
    "def prime_number(num):\n",
    "    if(num<2):\n",
    "        print(\"it is not a factorial\"+str(n))\n",
    "    else:\n",
    "        for i in range(2,num):\n",
    "            if(num%i == 0):\n",
    "                print(\"it is not a prime number\")\n",
    "                break\n",
    "        else:\n",
    "          print(\"prime number\")\n",
    "prime_number(num)"
   ]
  },
  {
   "cell_type": "markdown",
   "metadata": {},
   "source": [
    "Question: 6\n",
    "Suppose a customer is shopping in a market and you need to print all the items\n",
    "which user bought from market.\n",
    "Write a function which accepts the multiple arguments of user shopping list and\n",
    "print all the items which user bought from market.\n",
    "(Hint: Arbitrary Argument concept can make this task ease)"
   ]
  },
  {
   "cell_type": "code",
   "execution_count": 15,
   "metadata": {},
   "outputs": [
    {
     "name": "stdout",
     "output_type": "stream",
     "text": [
      "enter customer name:hermain\n",
      "enter a list of items:apple,bread,flour,nutella,butter,rice,soap\n",
      "customer name is :hermain\n",
      "items bought are ('apple,bread,flour,nutella,butter,rice,soap',)\n"
     ]
    }
   ],
   "source": [
    "name=input(\"enter customer name:\")\n",
    "shopping_list=input(\"enter a list of items:\")\n",
    "def customer(name,*shopping_list):\n",
    "    print(\"customer name is :\"+name+\"\\nitems bought are\",shopping_list)\n",
    "customer(name,shopping_list)"
   ]
  },
  {
   "cell_type": "code",
   "execution_count": null,
   "metadata": {},
   "outputs": [],
   "source": []
  },
  {
   "cell_type": "code",
   "execution_count": null,
   "metadata": {},
   "outputs": [],
   "source": []
  },
  {
   "cell_type": "code",
   "execution_count": null,
   "metadata": {},
   "outputs": [],
   "source": []
  }
 ],
 "metadata": {
  "kernelspec": {
   "display_name": "Python 3",
   "language": "python",
   "name": "python3"
  },
  "language_info": {
   "codemirror_mode": {
    "name": "ipython",
    "version": 3
   },
   "file_extension": ".py",
   "mimetype": "text/x-python",
   "name": "python",
   "nbconvert_exporter": "python",
   "pygments_lexer": "ipython3",
   "version": "3.7.3"
  }
 },
 "nbformat": 4,
 "nbformat_minor": 2
}
