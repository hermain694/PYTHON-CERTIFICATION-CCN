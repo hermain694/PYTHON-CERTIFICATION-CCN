{
 "cells": [
  {
   "cell_type": "markdown",
   "metadata": {},
   "source": [
    "Question 1:\n",
    "Define Object Oriented Programming Language?"
   ]
  },
  {
   "cell_type": "code",
   "execution_count": 8,
   "metadata": {},
   "outputs": [
    {
     "name": "stdout",
     "output_type": "stream",
     "text": [
      "Object-oriented programming  refers to a type of\n",
      "computer programming in which programmers define\n",
      "not only the data type of a data structure, but also the types of\n",
      "operations that can be applied to the data structure.\n",
      "\n",
      "There are 4 major principles that make an language Object Oriented are \n",
      "(1) Encapsulation\n",
      "(2) Data Abstraction\n",
      "(3) Polymorphism\n",
      "(4) Inheritance\n"
     ]
    }
   ],
   "source": [
    "print(\"Object-oriented programming  refers to a type of\\ncomputer programming in which programmers define\\nnot only the data type of a data structure, but also the types of\\noperations that can be applied to the data structure.\")\n",
    "print()\n",
    "print(\"There are 4 major principles that make an language Object Oriented are \\n(1) Encapsulation\\n(2) Data Abstraction\\n(3) Polymorphism\\n(4) Inheritance\")"
   ]
  },
  {
   "cell_type": "markdown",
   "metadata": {},
   "source": [
    "Question 2:\n",
    "List down the Benefits of OOP?"
   ]
  },
  {
   "cell_type": "code",
   "execution_count": 10,
   "metadata": {},
   "outputs": [
    {
     "name": "stdout",
     "output_type": "stream",
     "text": [
      "four advantages are:\n",
      "1. Modularity for easier troubleshooting\n",
      "2. Reuse of code through inheritance\n",
      "3. Flexibility through polymorphism\n",
      "4. Effective problem solving\n"
     ]
    }
   ],
   "source": [
    "print(\"four advantages are:\")\n",
    "print(\"1. Modularity for easier troubleshooting\")\n",
    "print(\"2. Reuse of code through inheritance\")\n",
    "print(\"3. Flexibility through polymorphism\")\n",
    "print(\"4. Effective problem solving\")"
   ]
  },
  {
   "cell_type": "markdown",
   "metadata": {},
   "source": [
    "Question 3:\n",
    "Differentiate between function and method?"
   ]
  },
  {
   "cell_type": "code",
   "execution_count": 11,
   "metadata": {},
   "outputs": [
    {
     "name": "stdout",
     "output_type": "stream",
     "text": [
      "Python method is called on an object, unlike a function. ... Since we call a method on an object, it can access the data within it. A method may alter an object's state,\n",
      "Python function usually only operates on it, and then prints something or returns a value\n"
     ]
    }
   ],
   "source": [
    "print(\"Python method is called on an object, unlike a function. ... Since we call a method on an object, it can access the data within it. A method may alter an object's state,\\nPython function usually only operates on it, and then prints something or returns a value\")"
   ]
  },
  {
   "cell_type": "markdown",
   "metadata": {},
   "source": [
    "Question 4:\n",
    "Define the following terms:\n",
    "1. Class\n",
    "2. Object\n",
    "3. Attribute\n",
    "4. Behavior"
   ]
  },
  {
   "cell_type": "code",
   "execution_count": 13,
   "metadata": {},
   "outputs": [
    {
     "name": "stdout",
     "output_type": "stream",
     "text": [
      "A class is a code template for creating objects.\n"
     ]
    }
   ],
   "source": [
    "print(\"A class is a code template for creating objects.it is a blue print of an object\")\n"
   ]
  },
  {
   "cell_type": "code",
   "execution_count": 14,
   "metadata": {},
   "outputs": [
    {
     "name": "stdout",
     "output_type": "stream",
     "text": [
      "Object is simply a collection of data (variables) and methods (functions) that act on those data\n"
     ]
    }
   ],
   "source": [
    "print(\"Object is simply a collection of data (variables) and methods (functions) that act on those data\")"
   ]
  },
  {
   "cell_type": "code",
   "execution_count": 15,
   "metadata": {},
   "outputs": [
    {
     "name": "stdout",
     "output_type": "stream",
     "text": [
      "A Python class attribute is an attribute of the class rather than an attribute of an instance of a class\n"
     ]
    }
   ],
   "source": [
    "print(\"A Python class attribute is an attribute of the class rather than an attribute of an instance of a class\")"
   ]
  },
  {
   "cell_type": "code",
   "execution_count": 39,
   "metadata": {},
   "outputs": [
    {
     "name": "stdout",
     "output_type": "stream",
     "text": [
      "Objects in Python are generally classified according to their behaviors and the features that they implement. For example, all of the sequence types such as strings, lists, and tuples are grouped together merely because they all happen to support a common set of sequence operations such as s[n], len(s),etc. All basic interpreter operations are implemented through special object methods. The names of special methods are always preceded and followed by double underscores (__). These methods are automatically triggered by the interpreter as a program executes. For example, the operation x + y is mapped to an internal method, x.__add__(y), and an indexing operation, x[k], is mapped to x.__getitem__(k). The behavior of each data type depends entirely on the set of special methods that it implements.\n"
     ]
    }
   ],
   "source": [
    "print(\"Objects in Python are generally classified according to their behaviors and the features that they implement. For example, all of the sequence types such as strings, lists, and tuples are grouped together merely because they all happen to support a common set of sequence operations such as s[n], len(s),etc. All basic interpreter operations are implemented through special object methods. The names of special methods are always preceded and followed by double underscores (__). These methods are automatically triggered by the interpreter as a program executes. For example, the operation x + y is mapped to an internal method, x.__add__(y), and an indexing operation, x[k], is mapped to x.__getitem__(k). The behavior of each data type depends entirely on the set of special methods that it implements.\")"
   ]
  },
  {
   "cell_type": "markdown",
   "metadata": {},
   "source": [
    "Question 5:\n",
    "Write a code in python in which create a class named it Car which\n",
    "have 5 attributes such like (model, color and name etc.) and 3\n",
    "methods. And create 5 object instance from that class."
   ]
  },
  {
   "cell_type": "code",
   "execution_count": 35,
   "metadata": {},
   "outputs": [
    {
     "name": "stdout",
     "output_type": "stream",
     "text": [
      "The car class function 1\n",
      "The car class function 2.\n",
      "The car class function 3.\n",
      "Toyota\n",
      "Corolla\n",
      "95000\n",
      "2019\n"
     ]
    }
   ],
   "source": [
    "class MyCar:\n",
    "    model = \"Toyota\"\n",
    "    name= \"Corolla\"\n",
    "    price= \"95000\"\n",
    "    year= \"2019\"\n",
    "    owner= \"company\"\n",
    "\n",
    "    def function1(self):\n",
    "        print(\"The car class function 1\")\n",
    "    def function2(self):\n",
    "        print(\"The car class function 2.\")\n",
    "    def function3(self):\n",
    "        print(\"The car class function 3.\")\n",
    "\n",
    "myobject1= MyCar()\n",
    "myobject1.function1()\n",
    "myobject1.function2()\n",
    "myobject1.function3()\n",
    "\n",
    "myobject2=MyCar()\n",
    "print(myobject2.model)\n",
    "\n",
    "\n",
    "myobject3=MyCar()\n",
    "print(myobject3.name)\n",
    "\n",
    "myobject4=MyCar()\n",
    "print(myobject4.price)\n",
    "\n",
    "myobject5=MyCar()\n",
    "print(myobject5.year)"
   ]
  },
  {
   "cell_type": "code",
   "execution_count": null,
   "metadata": {},
   "outputs": [],
   "source": []
  },
  {
   "cell_type": "code",
   "execution_count": null,
   "metadata": {},
   "outputs": [],
   "source": []
  }
 ],
 "metadata": {
  "kernelspec": {
   "display_name": "Python 3",
   "language": "python",
   "name": "python3"
  },
  "language_info": {
   "codemirror_mode": {
    "name": "ipython",
    "version": 3
   },
   "file_extension": ".py",
   "mimetype": "text/x-python",
   "name": "python",
   "nbconvert_exporter": "python",
   "pygments_lexer": "ipython3",
   "version": "3.7.3"
  }
 },
 "nbformat": 4,
 "nbformat_minor": 2
}
