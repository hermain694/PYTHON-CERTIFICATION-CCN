{
 "cells": [
  {
   "cell_type": "markdown",
   "metadata": {},
   "source": [
    "QUESTION 1:\n",
    "\n",
    "\n",
    "Use a dictionary to store information about a person you know. Store their first name, last name, age,\n",
    "and the city in which they live. You should have keys such as first_name, last_name, age, and city. Print\n",
    "each piece of information stored in your dictionary. Add a new key value pair about qualification then\n",
    "update the qualification value to high academic level then delete it."
   ]
  },
  {
   "cell_type": "code",
   "execution_count": 1,
   "metadata": {},
   "outputs": [
    {
     "data": {
      "text/plain": [
       "{'first_name': 'hermain', 'last-name': 'rais', 'age': 20, 'city': 'karachi'}"
      ]
     },
     "execution_count": 1,
     "metadata": {},
     "output_type": "execute_result"
    }
   ],
   "source": [
    "dict1={'first_name':'hermain','last-name':'rais','age':20,'city':'karachi'}\n",
    "dict1"
   ]
  },
  {
   "cell_type": "code",
   "execution_count": 2,
   "metadata": {},
   "outputs": [
    {
     "data": {
      "text/plain": [
       "{'first_name': 'hermain',\n",
       " 'last-name': 'rais',\n",
       " 'age': 20,\n",
       " 'city': 'karachi',\n",
       " 'qualification': 'intermediate'}"
      ]
     },
     "execution_count": 2,
     "metadata": {},
     "output_type": "execute_result"
    }
   ],
   "source": [
    "dict1['qualification']='intermediate'\n",
    "dict1"
   ]
  },
  {
   "cell_type": "code",
   "execution_count": 3,
   "metadata": {},
   "outputs": [
    {
     "data": {
      "text/plain": [
       "{'first_name': 'hermain',\n",
       " 'last-name': 'rais',\n",
       " 'age': 20,\n",
       " 'city': 'karachi',\n",
       " 'qualification': 'Bachelors'}"
      ]
     },
     "execution_count": 3,
     "metadata": {},
     "output_type": "execute_result"
    }
   ],
   "source": [
    "dict1.update({'qualification':'Bachelors'})\n",
    "dict1"
   ]
  },
  {
   "cell_type": "markdown",
   "metadata": {},
   "source": [
    "QUESTION 2:\n",
    "\n",
    "Make a dictionary called cities. Use the names of three cities as keys in your dictionary. Create a\n",
    "dictionary of information about each city and include the country that the city is in, its approximate\n",
    "population, and one fact about that city. The keys for each city’s dictionary should be something like\n",
    "country, population, and fact. Print the name of each city and all of the information you have stored\n",
    "about it."
   ]
  },
  {
   "cell_type": "code",
   "execution_count": 5,
   "metadata": {},
   "outputs": [
    {
     "name": "stdout",
     "output_type": "stream",
     "text": [
      "\n",
      "lahore\n",
      "\n",
      "country : pakistan\n",
      "population : 12188000\n",
      "fact : It is tHE SECOND LARGEST POPULATED CITY\n",
      "\n",
      "karachi\n",
      "\n",
      "country : pakistan\n",
      "population : 15741000\n",
      "fact : Karachi GENERATE 70% OF PAKISTAN'S REVENUE\n",
      "\n",
      "islamabad\n",
      "\n",
      "country : pakistan\n",
      "population : 1095064\n",
      "fact : CAPITAL OF PAKISTAN\n"
     ]
    }
   ],
   "source": [
    "cities={\n",
    "    \"lahore\":{\n",
    "        \"country\":\"pakistan\",\n",
    "        \"population\":12188000,\n",
    "        \"fact\":\"It is tHE SECOND LARGEST POPULATED CITY\"\n",
    "    },\n",
    "    \"karachi\":{\n",
    "        \"country\":\"pakistan\",\n",
    "        \"population\":15741000,\n",
    "        \"fact\":\"Karachi GENERATE 70% OF PAKISTAN'S REVENUE\"\n",
    "    },\n",
    "    \"islamabad\":{\n",
    "        \"country\":\"pakistan\",\n",
    "        \"population\":1095064,\n",
    "        \"fact\":\"CAPITAL OF PAKISTAN\"\n",
    "    }\n",
    "}\n",
    "for citykey,cityinfo in cities.items():\n",
    "    print(\"\\n\"+citykey+\"\\n\")\n",
    "    for city in cityinfo:\n",
    "        print(city+\" : \"+str(cityinfo[city]))"
   ]
  },
  {
   "cell_type": "markdown",
   "metadata": {},
   "source": [
    "QUESTION 3:\n",
    "\n",
    "A movie theater charges different ticket prices depending on a person’s age. If a person is under the age\n",
    "of 3, the ticket is free; if they are between 3 and 12, the ticket is $10; and if they are over age 12, the\n",
    "ticket is $15. Write a loop in which you ask users their age, and then tell them the cost of their movie\n",
    "ticket."
   ]
  },
  {
   "cell_type": "code",
   "execution_count": 7,
   "metadata": {},
   "outputs": [
    {
     "name": "stdout",
     "output_type": "stream",
     "text": [
      "Enter age : 20\n",
      "Ticket is 15$\n",
      "Are you want to take ticket y/n: n\n"
     ]
    }
   ],
   "source": [
    "flag='y'\n",
    "while flag!='n':\n",
    "    age=int(input(\"Enter age : \"))\n",
    "    if age>12:\n",
    "        print(\"Ticket is 15$\")\n",
    "    elif age>=3:\n",
    "        print(\"Ticket is 10$\")\n",
    "    else:\n",
    "        print(\"Ticket is free\")\n",
    "    flag=input(\"Are you want to take ticket y/n: \")"
   ]
  },
  {
   "cell_type": "markdown",
   "metadata": {},
   "source": [
    "QUESTION 4:\n",
    "\n",
    "Write a function called favorite_book() that accepts one parameter, title. The function should print a\n",
    "message, such as One of my favorite books is Alice in Wonderland. Call the function, making sure to\n",
    "include a book title as an argument in the function call."
   ]
  },
  {
   "cell_type": "code",
   "execution_count": 40,
   "metadata": {},
   "outputs": [
    {
     "data": {
      "text/plain": [
       "'ALICE IS MY FAVOURITE BOOK'"
      ]
     },
     "execution_count": 40,
     "metadata": {},
     "output_type": "execute_result"
    }
   ],
   "source": [
    "def favourite_book(title):\n",
    "    if(title is None):\n",
    "         print(\"Please populate the book title\")  \n",
    "    else:\n",
    "         \n",
    "        return title\n",
    "            \n",
    "favourite_book('ALICE IS MY FAVOURITE BOOK')"
   ]
  },
  {
   "cell_type": "markdown",
   "metadata": {},
   "source": [
    "Guess the number game\n",
    "Write a program which randomly generate a number between 1 to 30 and ask the user in input field to\n",
    "guess the correct number. Give three chances to user guess the number and also give hint to user if\n",
    "hidden number is greater or smaller than the number he given to input field."
   ]
  },
  {
   "cell_type": "code",
   "execution_count": 41,
   "metadata": {},
   "outputs": [
    {
     "name": "stdout",
     "output_type": "stream",
     "text": [
      "Enter the Guess Number: 7\n",
      "You Guess Lower Number\n",
      "Computer's Guess Number:  24\n",
      "Enter the Guess Number: 10\n",
      "You Guess Higher Number\n",
      "Computer's Guess Number:  8\n",
      "Enter the Guess Number: 15\n",
      "You Guess Lower Number\n",
      "Computer's Guess Number:  26\n"
     ]
    }
   ],
   "source": [
    "import random\n",
    "count = 0\n",
    "while count < 3:\n",
    "    guess = int(input(\"Enter the Guess Number: \"))\n",
    "    count += 1\n",
    "    rand = random.randint(1,30)\n",
    "    if guess == rand:\n",
    "        print(\"You Guess Correct Number\")\n",
    "    elif guess > rand:\n",
    "        print(\"You Guess Higher Number\")\n",
    "    elif guess < rand:\n",
    "        print(\"You Guess Lower Number\")\n",
    "    print(\"Computer's Guess Number: \",rand)"
   ]
  },
  {
   "cell_type": "code",
   "execution_count": null,
   "metadata": {},
   "outputs": [],
   "source": []
  }
 ],
 "metadata": {
  "kernelspec": {
   "display_name": "Python 3",
   "language": "python",
   "name": "python3"
  },
  "language_info": {
   "codemirror_mode": {
    "name": "ipython",
    "version": 3
   },
   "file_extension": ".py",
   "mimetype": "text/x-python",
   "name": "python",
   "nbconvert_exporter": "python",
   "pygments_lexer": "ipython3",
   "version": "3.7.3"
  }
 },
 "nbformat": 4,
 "nbformat_minor": 2
}
